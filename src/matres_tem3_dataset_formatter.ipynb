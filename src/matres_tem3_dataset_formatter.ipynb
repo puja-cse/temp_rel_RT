{
 "cells": [
  {
   "cell_type": "markdown",
   "metadata": {},
   "source": [
    "## In this jupyter notebook I will write the necessary code that will be needed to create neccessary files so that we can combine TempEval# and Matres\n",
    "In MATRES the eiid (ei12) is given for the events, for which we need corresponding eid (event id: e32)"
   ]
  },
  {
   "cell_type": "markdown",
   "metadata": {},
   "source": [
    "In this block we will read the file names from the MATRES dataset and creat a txt file containing the unique file names"
   ]
  },
  {
   "cell_type": "code",
   "execution_count": 21,
   "metadata": {},
   "outputs": [],
   "source": [
    "import os\n",
    "def list_file_names(path1, path2 ):\n",
    "    file_list = os.listdir(path1)\n",
    "    with open(path2, 'w') as my_file:\n",
    "        for file_name in file_list:\n",
    "            my_file.write(file_name[:-4])\n",
    "            my_file.write('\\n')\n",
    "    my_file.close()\n"
   ]
  },
  {
   "cell_type": "code",
   "execution_count": 22,
   "metadata": {},
   "outputs": [],
   "source": [
    "#----- List the name of files for aquaint dataset ----------\n",
    "path1 = '../dataset/tempeval-3-raw/' +'AQUAINT'\n",
    "path2 = '../dataset/matres/docid/docid_dev_aquaint.txt'\n",
    "list_file_names(path1, path2)\n",
    "\n",
    "#----- List the name of files for platinum dataset ----------\n",
    "path1 = '../dataset/tempeval-3-raw/' +'Platinum'\n",
    "path2 = '../dataset/matres/docid/docid_test_platinum.txt'\n",
    "list_file_names(path1, path2)\n",
    "\n",
    "#----- List the name of files for TimeBank dataset ----------\n",
    "path1 = '../dataset/tempeval-3-raw/' +'TimeBank'\n",
    "path2 = '../dataset/matres/docid/docid_train_timebank.txt'\n",
    "list_file_names(path1, path2)\n"
   ]
  }
 ],
 "metadata": {
  "kernelspec": {
   "display_name": "py3.10",
   "language": "python",
   "name": "python3"
  },
  "language_info": {
   "codemirror_mode": {
    "name": "ipython",
    "version": 3
   },
   "file_extension": ".py",
   "mimetype": "text/x-python",
   "name": "python",
   "nbconvert_exporter": "python",
   "pygments_lexer": "ipython3",
   "version": "3.10.11"
  }
 },
 "nbformat": 4,
 "nbformat_minor": 2
}
